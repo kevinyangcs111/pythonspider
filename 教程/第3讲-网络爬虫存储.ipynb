{
 "cells": [
  {
   "cell_type": "markdown",
   "metadata": {},
   "source": [
    "<hr>\n",
    "# 第3讲-网络爬虫存储"
   ]
  },
  {
   "cell_type": "markdown",
   "metadata": {
    "collapsed": true
   },
   "source": [
    "1. 关系数据库存储-MySQL为例\n",
    "2. 爬虫配合MySQL存储"
   ]
  },
  {
   "cell_type": "markdown",
   "metadata": {
    "collapsed": true
   },
   "source": [
    "## 1.关系数据库存储-MySQL为例"
   ]
  },
  {
   "cell_type": "markdown",
   "metadata": {},
   "source": [
    "### 1.1. 关系数据库介绍"
   ]
  },
  {
   "cell_type": "markdown",
   "metadata": {
    "collapsed": true
   },
   "source": [
    "假设你已经（或者有能力）获取大量数据（通过爬取），那么选择何种方式去存储数据非常重要\n",
    "\n",
    "一般而言就爬虫问题，我们可以选择：\n",
    "\n",
    "1. 文本文件的形式保存（比如csv）\n",
    "2. 数据库\n",
    "\n",
    "第一种\n",
    "\n",
    "- 优势：方便，随时使用，不需要第三方的支持\n",
    "- 劣势：健壮性差，扩展性差\n",
    "\n",
    "第二种\n",
    "\n",
    "- 优势：良好的扩展性，使用广泛\n",
    "- 劣势：对技术有一定要求"
   ]
  },
  {
   "cell_type": "markdown",
   "metadata": {},
   "source": [
    "### 1.2. MySQL安装"
   ]
  },
  {
   "cell_type": "markdown",
   "metadata": {},
   "source": [
    "1. 安装MySQL Community Server（或者安装 AppServ）\n",
    "2. 配置路径（第一次安装尽量不要进行配置的更改，设置path，记住root密码）\n",
    "3. 安装MySQL Workbench或Navicat等客户端工具"
   ]
  },
  {
   "cell_type": "markdown",
   "metadata": {},
   "source": [
    "终端操作：C:\\>mysql -u root –p"
   ]
  },
  {
   "cell_type": "markdown",
   "metadata": {},
   "source": [
    "![](./pics/mysql_start.png)"
   ]
  },
  {
   "cell_type": "markdown",
   "metadata": {
    "collapsed": true
   },
   "source": [
    "-------"
   ]
  },
  {
   "cell_type": "markdown",
   "metadata": {},
   "source": [
    "## 2.爬虫配合MySQL存储"
   ]
  },
  {
   "cell_type": "markdown",
   "metadata": {},
   "source": [
    "### 2.1Python配合MySQL"
   ]
  },
  {
   "cell_type": "markdown",
   "metadata": {},
   "source": [
    "MySQL和Python的连接库：\n",
    "\n",
    "- Python3.x: pymysql"
   ]
  },
  {
   "cell_type": "markdown",
   "metadata": {},
   "source": [
    "利用conda安装\n",
    "\n",
    "- conda install pymysql"
   ]
  },
  {
   "cell_type": "markdown",
   "metadata": {},
   "source": [
    "测试：\n",
    "\n",
    "先连接数据库"
   ]
  },
  {
   "cell_type": "code",
   "execution_count": 7,
   "metadata": {},
   "outputs": [
    {
     "name": "stdout",
     "output_type": "stream",
     "text": [
      "('localhost', 'root', 'Y', 'Y', 'Y', 'Y', 'Y', 'Y', 'Y', 'Y', 'Y', 'Y', 'Y', 'Y', 'Y', 'Y', 'Y', 'Y', 'Y', 'Y', 'Y', 'Y', 'Y', 'Y', 'Y', 'Y', 'Y', 'Y', 'Y', 'Y', 'Y', '', b'', b'', b'', 0, 0, 0, 0, 'mysql_native_password', '*00A51F3F48415C7D4E8908980D443C29C69B60C9', 'N', datetime.datetime(2017, 9, 22, 19, 42, 54), None, 'N')\n",
      "('localhost', 'mysql.sys', 'N', 'N', 'N', 'N', 'N', 'N', 'N', 'N', 'N', 'N', 'N', 'N', 'N', 'N', 'N', 'N', 'N', 'N', 'N', 'N', 'N', 'N', 'N', 'N', 'N', 'N', 'N', 'N', 'N', '', b'', b'', b'', 0, 0, 0, 0, 'mysql_native_password', '*THISISNOTAVALIDPASSWORDTHATCANBEUSEDHERE', 'N', datetime.datetime(2017, 5, 25, 10, 33, 17), None, 'Y')\n"
     ]
    }
   ],
   "source": [
    "# 模板\n",
    "import pymysql\n",
    "# 创建和数据库server的连接\n",
    "conn = pymysql.connect(host='127.0.0.1', port=3306, user='root', passwd='12345', db='mysql', charset='utf8')\n",
    "# cur是一种能从包括多条数据记录的结果中每次提取一条记录的机制\n",
    "# 可以认为cur就是指针\n",
    "cur = conn.cursor()\n",
    "cur.execute(\"select * from user\")\n",
    "for row in cur.fetchall():\n",
    "    print(row)\n",
    "#cur.execute(“SQL代码”)"
   ]
  },
  {
   "cell_type": "code",
   "execution_count": 9,
   "metadata": {},
   "outputs": [
    {
     "data": {
      "text/plain": [
       "1"
      ]
     },
     "execution_count": 9,
     "metadata": {},
     "output_type": "execute_result"
    }
   ],
   "source": [
    "cur.execute(\"insert into time_zone values(1,2)\")"
   ]
  },
  {
   "cell_type": "code",
   "execution_count": 10,
   "metadata": {
    "collapsed": true
   },
   "outputs": [],
   "source": [
    "#关闭 \n",
    "cur.close()\n",
    "#表修改或插入数据后commit \n",
    "conn.commit() \n",
    "conn.close()"
   ]
  },
  {
   "cell_type": "markdown",
   "metadata": {},
   "source": [
    "---------"
   ]
  },
  {
   "cell_type": "markdown",
   "metadata": {},
   "source": [
    "### 2.2Python爬虫配合MySQL"
   ]
  },
  {
   "cell_type": "markdown",
   "metadata": {},
   "source": [
    "- 继续小说例子"
   ]
  },
  {
   "cell_type": "code",
   "execution_count": 5,
   "metadata": {
    "collapsed": true
   },
   "outputs": [],
   "source": [
    "import requests\n",
    "import lxml\n",
    "from bs4 import BeautifulSoup\n",
    "import os\n",
    "import pymysql"
   ]
  },
  {
   "cell_type": "code",
   "execution_count": 12,
   "metadata": {
    "collapsed": true
   },
   "outputs": [],
   "source": [
    "def open_url(url):\n",
    "    headers = {'User-Agent':\"Mozilla/5.0 (Windows NT 6.1; Win64; x64) AppleWebKit/537.36 (KHTML, like Gecko) Chrome/56.0.2924.87 Safari/537.36\"}\n",
    "    html = requests.get(url, headers=headers)\n",
    "    html.encoding = 'utf-8'\n",
    "    html = html.text\n",
    "    return html"
   ]
  },
  {
   "cell_type": "code",
   "execution_count": 13,
   "metadata": {
    "collapsed": true
   },
   "outputs": [],
   "source": [
    "conn = pymysql.connect(host='127.0.0.1', \n",
    "                     port=3306, user='root', passwd='12345',db='mysql',\n",
    "                       use_unicode=True, charset='utf8')"
   ]
  },
  {
   "cell_type": "code",
   "execution_count": 14,
   "metadata": {
    "collapsed": true
   },
   "outputs": [],
   "source": [
    "cur = conn.cursor()"
   ]
  },
  {
   "cell_type": "code",
   "execution_count": 17,
   "metadata": {},
   "outputs": [
    {
     "data": {
      "text/plain": [
       "0"
      ]
     },
     "execution_count": 17,
     "metadata": {},
     "output_type": "execute_result"
    }
   ],
   "source": [
    "cur.execute('create table wuxia(title varchar(128) ,author varchar(128), href varchar(64))')"
   ]
  },
  {
   "cell_type": "code",
   "execution_count": 18,
   "metadata": {},
   "outputs": [],
   "source": [
    "html = open_url('http://www.wuxia.net.cn/book.html')\n",
    "Soup = BeautifulSoup(html, 'lxml')\n",
    "all_a = Soup.select('td p')"
   ]
  },
  {
   "cell_type": "code",
   "execution_count": 19,
   "metadata": {},
   "outputs": [
    {
     "name": "stdout",
     "output_type": "stream",
     "text": [
      "傲君刀 (马舸) /book/aojundao.html\n",
      "傲爷刀 (柳残阳) /book/aoyedao.html\n",
      "霸海风云 (云中岳) /book/bahaifengyun.html\n",
      "白帝城 (红猪侠) /book/baidicheng.html\n",
      "白发魔女传 (梁羽生) /book/baifamonvzhuan.html\n",
      "白马啸西风 (金庸) /book/baimaxiaoxifeng.html\n",
      "百年孤寂 (沈璎璎) /book/bainianguji.html\n",
      "白玉雕龙 (古龙) /book/baiyudiaolong.html\n",
      "护花铃（原名拜月教之战） (沧月) /book/baiyuejiaozhizhan.html\n",
      "白玉老虎 (古龙) /book/baiyulaohu.html\n",
      "八骏雄风 (司马紫烟) /book/bajunxiongfeng.html\n",
      "宝剑金钗 (王度庐) /book/baojianjincha.html\n",
      "杯雪 (小椴) /book/beixue.html\n",
      "边城刀声 (古龙) /book/bianchengdaosheng.html\n",
      "边城浪子 (古龙) /book/bianchenglangzi.html\n",
      "彼岸花 (沧月) /book/bianhua.html\n",
      "边荒传说 (黄易) /book/bianhuangchuanshuo.html\n",
      "碧城 (沧月) /book/bicheng.html\n",
      "冰川天女传 (梁羽生) /book/bingchuantiannvchuan.html\n",
      "冰河洗剑录 (梁羽生) /book/binghexijianlu.html\n",
      "冰魄寒光剑 (梁羽生) /book/bingpohanguangjian.html\n",
      "避雪传奇 (时未寒) /book/bixuechuanqi.html\n",
      "碧血剑 (金庸) /book/bixuejian.html\n",
      "碧血洗银枪 (古龙) /book/bixuexiyinqiang.html\n",
      "彩环曲 (古龙) /book/caihuanqu.html\n",
      "沧海 (凤歌) /book/canghai.html\n",
      "苍穹神剑 (古龙) /book/cangqiongshenjian.html\n",
      "残金缺玉 (古龙) /book/canjinqueyu.html\n",
      "草莽龙蛇传 (梁羽生) /book/caomanglongshezhuan.html\n",
      "长安古意 (小椴) /book/changanguyi.html\n",
      "长安乱 (韩寒) /book/changanluan.html\n",
      "尘镜蛛奁 (小椴) /book/chenjingzhulian.html\n",
      "沉沙谷 (上官鼎) /book/chenshagu.html\n",
      "楚留香系列 (古龙) /book/chuliuxiang.html\n",
      "春风柳上原 (江南) /book/chunfengliushangyuan.html\n",
      "刺 (小椴) /book/ci.html\n",
      "慈悲刀 (燕垒生) /book/cibeidao.html\n",
      "大地飞鹰 (古龙) /book/dadifeiying.html\n",
      "大漠荒颜 (沧月) /book/damohuangyan.html\n",
      "道可道 (燕垒生) /book/daokedao.html\n",
      "刀上舞 (盛颜) /book/daoshangwu.html\n",
      "大旗英雄传 (古龙) /book/daqiyingxiongzhuan.html\n",
      "大人物 (古龙) /book/darenwu.html\n",
      "大唐双龙传 (黄易) /book/datangshuanglongzhuan.html\n",
      "大唐游侠传 (梁羽生) /book/datangyouxiazhuan.html\n",
      "大英雄 (司马紫烟) /book/dayingxiong.html\n",
      "帝都赋 (沧月) /book/didufu.html\n",
      "狄公案 (高罗佩) /book/digongan.html\n",
      "赌局系列 (古龙) /book/duju.html\n",
      "多情剑客无情剑 (古龙) /book/duoqingjiankewuqingjian.html\n",
      "峨嵋七矮 (还珠楼主) /book/emeiqiai.html\n",
      "儿女英雄传 (文康) /book/ernvyingxiongzhuan.html\n",
      "反骨仔 (李亮) /book/fanguzai.html\n",
      "飞刀、又见飞刀 (古龙) /book/feidaoyoujianfeidao.html\n",
      "飞凤潜龙 (梁羽生) /book/feifengqianlong.html\n",
      "飞狐外传 (金庸) /book/feihuwaizhuan.html\n",
      "分飞燕 (天平) /book/fenfeiyan.html\n",
      "风波恶 (李亮) /book/fengboe.html\n",
      "凤凰于飞 (楚惜刀) /book/fenghuangyufei.html\n",
      "风火流星锤 (红猪侠) /book/fenghuoliuxingchui.html\n",
      "风雷震九洲 (梁羽生) /book/fengleizhenjiuzhou.html\n",
      "风铃中的刀声 (古龙) /book/fenglingzhongdedaosheng.html\n",
      "凤起阿房 (天平) /book/fengqiepang.html\n",
      "风神镇 (杨虚白) /book/fengshenzhen.html\n",
      "风云系列 (马荣成) /book/fengyun.html\n",
      "风云榜 (慕容美) /book/fengyunbang.html\n",
      "风云雷电 (梁羽生) /book/fengyunleidian.html\n",
      "佛心红颜 (江南) /book/fuxinhongyan.html\n",
      "覆雨翻云 (黄易) /book/fuyufanyun.html\n",
      "甘十九妹 (萧逸) /book/ganshijiumei.html\n",
      "功夫 (九把刀) /book/gongfu.html\n",
      "弓箫缘 (小椴) /book/gongxiaoyuan.html\n",
      "广陵剑 (梁羽生) /book/guanglingjian.html\n",
      "鬼堡 (陈青云) /book/guibao.html\n",
      "鬼缠铃 (杨叛) /book/guichanling.html\n",
      "孤星传 (古龙) /book/guxingzhuan.html\n",
      "瀚海龙吟 (江南) /book/hanhailongyin.html\n",
      "瀚海雄风 (梁羽生) /book/hanhaixiongfeng.html\n",
      "寒鸦劫 (盛颜) /book/hanyajie.html\n",
      "鹤惊昆仑 (王度庐) /book/hejingkunlun.html\n",
      "红酥手 (夏洛) /book/hongsushou.html\n",
      "还剑奇情录 (梁羽生) /book/huaijianqiqinglu.html\n",
      "荒原雪 (沧月) /book/huangyuanxue.html\n",
      "浣花洗剑录 (古龙) /book/huanhuaxijianlu.html\n",
      "幻剑灵旗 (梁羽生) /book/huanjianlingqi.html\n",
      "欢乐英雄 (古龙) /book/huanleyingxiong.html\n",
      "换日箭 (时未寒) /book/huanrijian.html\n",
      "幻真缘 (马舸) /book/huanzhenyuan.html\n",
      "华音流韶 (步非烟) /book/huayinliushao.html\n",
      "花之尸骸 (盛颜) /book/huazhishihai.html\n",
      "护花铃 (古龙) /book/huhualing.html\n",
      "回风七绝 (杨叛) /book/huifengqijue.html\n",
      "慧剑心魔 (梁羽生) /book/huijianxinmo.html\n",
      "火并萧十一郎 (古龙) /book/huobingxiaoshiyilang.html\n",
      "剑毒梅香 (古龙) /book/jiandumeixiang.html\n",
      "剑歌 (沧月) /book/jiange.html\n",
      "江湖怪异传 (平江不肖生) /book/jianghuguaiyizhuan.html\n",
      "江湖三女侠 (梁羽生) /book/jianghusannvxia.html\n",
      "江湖墟 (小椴) /book/jianghuxu.html\n",
      "江湖夜雨十年灯 (诸葛青云) /book/jianghuyeyushiniandeng.html\n",
      "江南雪 (燕歌) /book/jiangnanxue.html\n",
      "绛雪玄霜 (卧龙生) /book/jiangxuexuanshuang.html\n",
      "剑海鹰扬 (司马翎) /book/jianhaiyingyang.html\n",
      "剑花烟雨江南 (古龙) /book/jianhuayanyujiangnan.html\n",
      "剑客行 (古龙) /book/jiankexing.html\n",
      "剑气书香 (古龙) /book/jianqishuxiang.html\n",
      "剑气侠虹 (时未寒) /book/jianqixiahong.html\n",
      "剑气珠光 (王度庐) /book/jianqizhuguang.html\n",
      "剑神传 (司马翎) /book/jianshenzhuan.html\n",
      "剑网尘丝 (梁羽生) /book/jianwangchensi.html\n",
      "剑啸西风 (展飞) /book/jianxiaoxifeng.html\n",
      "剑侠情缘 (步非烟) /book/jianxiaqingyuan.html\n",
      "剑玄录 (古龙) /book/jianxuanlu.html\n",
      "借红灯 (小椴) /book/jiehongdeng.html\n",
      "济公全传 (郭小亭) /book/jigongquanzhuan.html\n",
      "镜系列 (沧月) /book/jing.html\n",
      "荆楚争雄记 (黄易) /book/jingchuzhengxiongji.html\n",
      "京娘 (小椴) /book/jingniang.html\n",
      "惊杀局 (时未寒) /book/jingshaju.html\n",
      "金剑雕翎 (卧龙生) /book/jinjiandiaoling.html\n",
      "金陵残梦 (杨虚白) /book/jinlingcanmeng.html\n",
      "九阙梦华 (步非烟) /book/jiuquemenghua.html\n",
      "九阴九阳 (阳朔) /book/jiuyinjiuyang.html\n",
      "九月鹰飞 (古龙) /book/jiuyueyingfei.html\n",
      "决不低头 (古龙) /book/juebuditou.html\n",
      "绝代双骄 (古龙) /book/juedaishuangjiao.html\n",
      "绝顶 (时未寒) /book/jueding.html\n",
      "绝塞传烽录 (梁羽生) /book/juesaichuanfenglu.html\n",
      "开唐 (小椴) /book/kaitang.html\n",
      "狂侠天娇魔女 (梁羽生) /book/kuangxiatianjiaomonv.html\n",
      "傀儡戏 (李亮) /book/kuileixi.html\n",
      "昆仑 (凤歌) /book/kunlun.html\n",
      "揽月妖姬 (沈璎璎) /book/lanyueyaoji.html\n",
      "连城脆 (盛颜) /book/lianchengcui.html\n",
      "连城诀 (金庸) /book/lianchengjue.html\n",
      "联剑风云录 (梁羽生) /book/lianjianfengyunlu.html\n",
      "烈火焚琴 (江南) /book/liehuofenqin.html\n",
      "琉璃变 (沈璎璎) /book/liulibian.html\n",
      "流星蝴蝶剑 (古龙) /book/liuxinghudiejian.html\n",
      "六指琴魔 (倪匡) /book/liuzhiqinmo.html\n",
      "六指琴魔续集 (倪匡) /book/liuzhiqinmoxuji.html\n",
      "龙城 (小椴) /book/longcheng.html\n",
      "龙凤宝钗缘 (梁羽生) /book/longfengbaochayuan.html\n",
      "龙虎斗京华 (梁羽生) /book/longhudoujinghua.html\n",
      "隆庆天下 (孙晓) /book/longqingtianxia.html\n",
      "鹿鼎记 (金庸) /book/ludingji.html\n",
      "落鸿火 (天平) /book/luohonghuo.html\n",
      "罗刹夫人 (朱贞木) /book/luoshafuren.html\n",
      "洛阳女儿行 (小椴) /book/luoyangnverxing.html\n",
      "陆小凤系列 (古龙) /book/luxiaofeng.html\n",
      "曼珠沙华 (沧月) /book/manzhushahua.html\n",
      "毛公案 (储仁逊) /book/maogongan.html\n",
      "美女江山一锅煮 (刘建良) /book/meinvjiangshanyiguozhu.html\n",
      "梅影埋香 (杨叛) /book/meiyingmaixiang.html\n",
      "妙手兰花 (楚惜刀) /book/miaoshoulanhua.html\n",
      "鸣镝风云录 (梁羽生) /book/mingdifengyunlu.html\n",
      "名剑风流 (古龙) /book/mingjianfengliu.html\n",
      "魔教东来 (李亮) /book/mojiaodonglai.html\n",
      "木兰花树 (沈璎璎) /book/mulanhuashu.html\n",
      "牧野流星 (梁羽生) /book/muyeliuxing.html\n",
      "那一剑的风情 (古龙) /book/nayijiandefengqing.html\n",
      "怒剑狂花 (古龙) /book/nujiankuanghua.html\n",
      "女帝奇英传 (梁羽生) /book/nvdiqiyingzhuan.html\n",
      "飘香剑雨 (古龙) /book/piaoxiangjianyu.html\n",
      "萍踪侠影录 (梁羽生) /book/pingzongxiayinglu.html\n",
      "破城锥 (红猪侠) /book/pochengzhui.html\n",
      "破浪锥 (时未寒) /book/polangzhui.html\n",
      "破碎虚空 (黄易) /book/posuixukong.html\n",
      "千门公子 (方白羽) /book/qianmengongzi.html\n",
      "千门之花 (方白羽) /book/qianmenzhihua.html\n",
      "千门之门 (方白羽) /book/qianmenzhimen.html\n",
      "千门之圣 (方白羽) /book/qianmenzhisheng.html\n",
      "千门之威 (方白羽) /book/qianmenzhiwei.html\n",
      "千门之心 (方白羽) /book/qianmenzhixin.html\n",
      "千门之雄 (方白羽) /book/qianmenzhixiong.html\n",
      "窃魂影 (时未寒) /book/qiehunying.html\n",
      "七剑下天山 (梁羽生) /book/qijianxiatianshan.html\n",
      "枕中记之青城外传 (盛颜) /book/qingchengwaichuan.html\n",
      "情人箭 (古龙) /book/qingrenjian.html\n",
      "青丝井的传说 (小椴) /book/qingsijingdechuanshuo.html\n",
      "青丝妖娆 (楚惜刀) /book/qingsiyaorao.html\n",
      "庆熹纪事 (红猪侠) /book/qingxijishi.html\n",
      "青崖记 (沈璎璎) /book/qingyaji.html\n",
      "七杀碑 (朱贞木) /book/qishabei.html\n",
      "七杀手 (古龙) /book/qishashou.html\n",
      "七星龙王 (古龙) /book/qixinglongwang.html\n",
      "七夜雪 (沧月) /book/qiyexue.html\n",
      "七种武器 (古龙) /book/qizhongwuqi.html\n",
      "入鞘刀 (李亮) /book/ruqiaodao.html\n",
      "如意坊 (沈璎璎) /book/ruyifang.html\n",
      "塞外奇侠传 (梁羽生) /book/saiwaiqixiazhuan.html\n",
      "散花女侠 (梁羽生) /book/sanhuanvxia.html\n",
      "三京画本 (盛颜) /book/sanjinghuaben.html\n",
      "三少爷的剑 (古龙) /book/sanshaoyedejian.html\n",
      "三侠五义 (石玉昆) /book/sanxiawuyi.html\n",
      "山河 (时未寒) /book/shanhe.html\n",
      "少林寺第八铜人 (九把刀) /book/shaolinsidibatongren.html\n",
      "杀人者小狄 (燕歌) /book/sharenzhexiaodi.html\n",
      "射雕英雄传 (金庸) /book/shediaoyingyiongzhuang.html\n",
      "神雕侠侣 (金庸) /book/shendiaoxialv.html\n",
      "逝鸿传说 (碎石) /book/shihongchuanshuo.html\n",
      "失魂引 (古龙) /book/shihunyin.html\n",
      "石榴记 (小椴) /book/shiliuji.html\n",
      "双曜引 (天平) /book/shuangyaoyin.html\n",
      "水浒传 (施耐庵) /book/shuihuchuan.html\n",
      "水浒后传 (陈忱) /book/shuihuhouchuan.html\n",
      "书剑恩仇录 (金庸) /book/shujianenchoulu.html\n",
      "说唐前传 (佚名) /book/shuotangqianzhuan.html\n",
      "说岳全传 (钱彩) /book/shuoyuequanzhuan.html\n",
      "庶人剑 (天平) /book/shurenjian.html\n",
      "蜀山剑侠后传 (还珠楼主) /book/shushanjianxiahouzhuan.html\n",
      "蜀山剑侠新传 (还珠楼主) /book/shushanjianxiaxinzhuan.html\n",
      "蜀山剑侠传 (还珠楼主) /book/shushanjianxiazhuan.html\n",
      "死城 (陈青云) /book/sicheng.html\n",
      "四海鹰扬 (云中岳) /book/sihaiyingyang.html\n",
      "死香煞 (杨叛) /book/sixiangsha.html\n",
      "碎空刀 (时未寒) /book/suikongdao.html\n",
      "隋唐演义 (褚人获) /book/suitangyanyi.html\n",
      "弹指惊雷 (梁羽生) /book/tanzhijinglei.html\n",
      "天蚕变 (黄鹰) /book/tiancanbian.html\n",
      "天蚕再变 (黄鹰) /book/tiancanzaibian.html\n",
      "天街尘 (天平) /book/tianjiechen.html\n",
      "天岚石语 (杨叛) /book/tianlanshiyu.html\n",
      "天龙八部 (金庸) /book/tianlongbabu.html\n",
      "天行健 (燕垒生) /book/tianxingjian.html\n",
      "天涯明月刀 (古龙) /book/tianyamingyuedao.html\n",
      "天子外传 (黄玉郎) /book/tianziwaichuan.html\n",
      "铁骑银瓶 (王度庐) /book/tiejiyinping.html\n",
      "铁血天骄 (凤歌) /book/tiexuetianjiao.html\n",
      "偷拳 (白羽) /book/touquan.html\n",
      "偷天弓 (时未寒) /book/toutiangong.html\n",
      "望月楼 (马舸) /book/wangyuelou.html\n",
      "卧虎藏龙 (王度庐) /book/wohucanglong.html\n",
      "吴村之战 (杨虚白) /book/wucunzhizhan.html\n",
      "武当一剑 (梁羽生) /book/wudangyijian.html\n",
      "吴钩霜雪明 (杨虚白) /book/wugoushuangxueming.html\n",
      "五胡战史 (周显) /book/wuhuzhanshi.html\n",
      "武陵春 (燕歌) /book/wulingchun.html\n",
      "武林客栈 (步非烟) /book/wulinkezhan.html\n",
      "武林天骄 (梁羽生) /book/wulintianjiao.html\n",
      "武林外史 (古龙) /book/wulinwaishi.html\n",
      "侠骨丹心 (梁羽生) /book/xiagudanxin.html\n",
      "侠客行 (金庸) /book/xiakexing.html\n",
      "湘妃剑 (古龙) /book/xiangfeijian.html\n",
      "侠女灵襄 (杨叛) /book/xianvlingxiang.html\n",
      "笑傲江湖 (金庸) /book/xiaoaojianghu.html\n",
      "萧十一郎 (古龙) /book/xiaoshiyilang.html\n",
      "小五义 (石玉昆) /book/xiaowuyi.html\n",
      "邪神外传 (柳残阳) /book/xieshenwaizhuan.html\n",
      "新月剑 (司马紫烟) /book/xinyuejian.html\n",
      "修罗道 (步非烟) /book/xiuluodao.html\n",
      "西幸残歌 (天平) /book/xixingcange.html\n",
      "隙中驹 (小椴) /book/xizhongju.html\n",
      "薛刚反唐 (如莲居士) /book/xuegangfantang.html\n",
      "雪山飞狐 (金庸) /book/xueshanfeihu.html\n",
      "血薇 (沧月) /book/xuewei.html\n",
      "血鹦鹉 (古龙) /book/xueyingwu.html\n",
      "续济公传 (坑余生) /book/xujigongzhuan.html\n",
      "寻秦记 (黄易) /book/xunqinji.html\n",
      "续小五义 (石玉昆) /book/xuxiaowuyi.html\n",
      "杨家将 (熊大木) /book/yangjiajiang.html\n",
      "胭脂结 (天平) /book/yanzhijie.html\n",
      "夜船吹笛雨潇潇 (沧月) /book/yechuanchuidiyuxiaoxiao.html\n",
      "以待天倾 (马舸) /book/yidaitianqing.html\n",
      "阴符经·纵横 (楚惜刀) /book/yinfujingzongheng.html\n",
      "英雄无泪 (古龙) /book/yingxiongwulei.html\n",
      "英雄志 (孙晓) /book/yingxiongzhi.html\n",
      "鹰爪王 (郑证因) /book/yingzhaowang.html\n",
      "倚天屠龙记 (金庸) /book/yitiantulongji.html\n",
      "游剑江湖 (梁羽生) /book/youjianjianghu.html\n",
      "游侠录 (古龙) /book/youxialu.html\n",
      "袁崇焕评传 (金庸) /book/yuanchonghuanpingzhuan.html\n",
      "鸳鸯刀 (金庸) /book/yuanyangdao.html\n",
      "圆月弯刀 (古龙) /book/yuanyuewandao.html\n",
      "月冷金邪 (燕歌) /book/yuelingjinxie.html\n",
      "越女剑 (金庸) /book/yuenvjian.html\n",
      "月异星邪 (古龙) /book/yueyixingxie.html\n",
      "浴火穷途 (李亮) /book/yuhuoqiongtu.html\n",
      "玉露金风 (燕歌) /book/yulujinfeng.html\n",
      "云海玉弓缘 (梁羽生) /book/yunhaiyugongyuan.html\n",
      "云散高唐 (沈璎璎) /book/yunsangaotang.html\n",
      "枕戈京华 (杨虚白) /book/zhengejinghua.html\n",
      "脂剑奇僧录 (小椴) /book/zhijianqisenglu.html\n",
      "中间人 (江南) /book/zhongjianren.html\n"
     ]
    }
   ],
   "source": [
    "for i in all_a:\n",
    "        title = i.find('a').get_text()\n",
    "        href = i.find('a')['href']\n",
    "        author = i.find('span').get_text()\n",
    "        cur.execute('insert into wuxia values(%s,%s,%s)',[title,author,href])\n",
    "        print(title, author, href)"
   ]
  },
  {
   "cell_type": "code",
   "execution_count": 20,
   "metadata": {
    "collapsed": true
   },
   "outputs": [],
   "source": [
    "conn.commit()\n",
    "#以下两步把游标与数据库连接都关闭，这也是必须的！\n",
    "cur.close()\n",
    "conn.close()"
   ]
  },
  {
   "cell_type": "markdown",
   "metadata": {},
   "source": [
    "##### 习题：将去哪儿网门票信息存入数据库mysql的表qunar"
   ]
  },
  {
   "cell_type": "code",
   "execution_count": null,
   "metadata": {
    "collapsed": true
   },
   "outputs": [],
   "source": []
  }
 ],
 "metadata": {
  "kernelspec": {
   "display_name": "Python 3",
   "language": "python",
   "name": "python3"
  },
  "language_info": {
   "codemirror_mode": {
    "name": "ipython",
    "version": 3
   },
   "file_extension": ".py",
   "mimetype": "text/x-python",
   "name": "python",
   "nbconvert_exporter": "python",
   "pygments_lexer": "ipython3",
   "version": "3.7.0"
  }
 },
 "nbformat": 4,
 "nbformat_minor": 2
}
